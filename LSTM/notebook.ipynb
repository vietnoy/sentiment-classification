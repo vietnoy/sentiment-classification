{
 "cells": [
  {
   "cell_type": "code",
   "execution_count": 4,
   "id": "9c8784a7",
   "metadata": {},
   "outputs": [],
   "source": [
    "import os\n",
    "import sys\n",
    "\n",
    "cwd = os.getcwd()\n",
    "sys.path.append(os.path.abspath(\"..\"))"
   ]
  },
  {
   "cell_type": "code",
   "execution_count": 5,
   "id": "6565bf3b",
   "metadata": {},
   "outputs": [],
   "source": [
    "import numpy as np\n",
    "import matplotlib.pyplot as plt\n",
    "from data.data_preprocessing import load_and_preprocess"
   ]
  },
  {
   "cell_type": "code",
   "execution_count": 6,
   "id": "950b7397",
   "metadata": {},
   "outputs": [],
   "source": [
    "train, val, test = load_and_preprocess(train_sample_size=100000, val_sample_size=2000)"
   ]
  },
  {
   "cell_type": "code",
   "execution_count": 7,
   "id": "56562864",
   "metadata": {},
   "outputs": [
    {
     "data": {
      "text/html": [
       "<div>\n",
       "<style scoped>\n",
       "    .dataframe tbody tr th:only-of-type {\n",
       "        vertical-align: middle;\n",
       "    }\n",
       "\n",
       "    .dataframe tbody tr th {\n",
       "        vertical-align: top;\n",
       "    }\n",
       "\n",
       "    .dataframe thead th {\n",
       "        text-align: right;\n",
       "    }\n",
       "</style>\n",
       "<table border=\"1\" class=\"dataframe\">\n",
       "  <thead>\n",
       "    <tr style=\"text-align: right;\">\n",
       "      <th></th>\n",
       "      <th>label</th>\n",
       "      <th>title</th>\n",
       "      <th>text</th>\n",
       "    </tr>\n",
       "  </thead>\n",
       "  <tbody>\n",
       "    <tr>\n",
       "      <th>0</th>\n",
       "      <td>1</td>\n",
       "      <td>Einstein: His Life Revealed</td>\n",
       "      <td>walter isaacson has clearly covered the bases ...</td>\n",
       "    </tr>\n",
       "    <tr>\n",
       "      <th>1</th>\n",
       "      <td>0</td>\n",
       "      <td>Totally unreliable measuring directions</td>\n",
       "      <td>the examples of things that can be built are v...</td>\n",
       "    </tr>\n",
       "    <tr>\n",
       "      <th>2</th>\n",
       "      <td>1</td>\n",
       "      <td>It's Not Just About the Book</td>\n",
       "      <td>i just finished reading the book as the tour d...</td>\n",
       "    </tr>\n",
       "    <tr>\n",
       "      <th>3</th>\n",
       "      <td>0</td>\n",
       "      <td>Playing in the dark</td>\n",
       "      <td>be careful buying this light the invoice and o...</td>\n",
       "    </tr>\n",
       "    <tr>\n",
       "      <th>4</th>\n",
       "      <td>0</td>\n",
       "      <td>Rose-flavored Water, NOT Rosewater</td>\n",
       "      <td>if all you're after is rose flavor for cooking...</td>\n",
       "    </tr>\n",
       "  </tbody>\n",
       "</table>\n",
       "</div>"
      ],
      "text/plain": [
       "   label                                    title  \\\n",
       "0      1              Einstein: His Life Revealed   \n",
       "1      0  Totally unreliable measuring directions   \n",
       "2      1             It's Not Just About the Book   \n",
       "3      0                      Playing in the dark   \n",
       "4      0       Rose-flavored Water, NOT Rosewater   \n",
       "\n",
       "                                                text  \n",
       "0  walter isaacson has clearly covered the bases ...  \n",
       "1  the examples of things that can be built are v...  \n",
       "2  i just finished reading the book as the tour d...  \n",
       "3  be careful buying this light the invoice and o...  \n",
       "4  if all you're after is rose flavor for cooking...  "
      ]
     },
     "execution_count": 7,
     "metadata": {},
     "output_type": "execute_result"
    }
   ],
   "source": [
    "train.head()"
   ]
  },
  {
   "cell_type": "code",
   "execution_count": 8,
   "id": "0a78febc",
   "metadata": {},
   "outputs": [
    {
     "name": "stdout",
     "output_type": "stream",
     "text": [
      "Training size: 100000\n",
      "Validation size: 2000\n",
      "Test size: 180000\n"
     ]
    }
   ],
   "source": [
    "print(f\"Training size: {len(train)}\")\n",
    "print(f\"Validation size: {len(val)}\")\n",
    "print(f\"Test size: {len(test)}\")"
   ]
  },
  {
   "cell_type": "code",
   "execution_count": 9,
   "id": "3bf86d79",
   "metadata": {},
   "outputs": [],
   "source": [
    "from gensim.models import Word2Vec\n",
    "\n",
    "sentences = [text.split() for text in train[\"text\"]]  # List of tokenized sentences\n",
    "\n",
    "word2vec_model = Word2Vec(\n",
    "    sentences=sentences,\n",
    "    vector_size=100,        # Embedding dimension\n",
    "    window=5,               # Context window\n",
    "    min_count=1,           # Ignore words with frequency < min_count\n",
    "    workers=4,             # Number of CPU cores\n",
    "    epochs=10\n",
    ")"
   ]
  },
  {
   "cell_type": "code",
   "execution_count": 10,
   "id": "73971002",
   "metadata": {},
   "outputs": [
    {
     "name": "stdout",
     "output_type": "stream",
     "text": [
      "Tokenized sequences shape: (100000, 50)\n",
      "Vocabulary size: 175623\n"
     ]
    }
   ],
   "source": [
    "def tokenize_with_gensim_vocab(texts, word2vec_model, max_length=50, unk_token=\"<UNK>\"):\n",
    "    \"\"\"\n",
    "    Tokenize texts using Word2Vec model's vocabulary\n",
    "    \"\"\"\n",
    "    # Get vocabulary mapping\n",
    "    word_to_id = word2vec_model.wv.key_to_index.copy()\n",
    "    \n",
    "    # Add special tokens if needed\n",
    "    vocab_size = len(word_to_id)\n",
    "    if unk_token not in word_to_id:\n",
    "        word_to_id[unk_token] = vocab_size\n",
    "        vocab_size += 1\n",
    "    \n",
    "    # Add padding token\n",
    "    pad_token = \"<PAD>\"\n",
    "    if pad_token not in word_to_id:\n",
    "        word_to_id[pad_token] = vocab_size\n",
    "        vocab_size += 1\n",
    "    \n",
    "    unk_id = word_to_id[unk_token]\n",
    "    pad_id = word_to_id[pad_token]\n",
    "    \n",
    "    sequences = []\n",
    "    \n",
    "    for text in texts:\n",
    "        # Basic tokenization (you can make this more sophisticated)\n",
    "        tokens = text.lower().split()\n",
    "        \n",
    "        # Convert to indices\n",
    "        indices = []\n",
    "        for token in tokens:\n",
    "            if token in word_to_id:\n",
    "                indices.append(word_to_id[token])\n",
    "            else:\n",
    "                indices.append(unk_id)  # Unknown token\n",
    "        \n",
    "        # Truncate or pad\n",
    "        if len(indices) > max_length:\n",
    "            indices = indices[:max_length]\n",
    "        else:\n",
    "            indices.extend([pad_id] * (max_length - len(indices)))\n",
    "        \n",
    "        sequences.append(indices)\n",
    "    \n",
    "    return np.array(sequences), word_to_id\n",
    "\n",
    "# Usage\n",
    "sequences, word_to_id_gensim = tokenize_with_gensim_vocab(\n",
    "    train[\"text\"].tolist(), \n",
    "    word2vec_model, \n",
    "    max_length=50\n",
    ")\n",
    "print(f\"Tokenized sequences shape: {sequences.shape}\")\n",
    "print(f\"Vocabulary size: {len(word_to_id_gensim)}\")"
   ]
  },
  {
   "cell_type": "code",
   "execution_count": 11,
   "id": "f52a8478",
   "metadata": {},
   "outputs": [
    {
     "name": "stdout",
     "output_type": "stream",
     "text": [
      "=== GENSIM WORD2VEC PIPELINE ===\n",
      "Tokenizing texts...\n",
      "Creating embedding matrix...\n",
      "Found embeddings for 175621/175623 words\n",
      "Data shapes:\n",
      "X_train: (100000, 50), y_train: (100000,)\n",
      "X_val: (2000, 50), y_val: (2000,)\n",
      "X_test: (180000, 50), y_test: (180000,)\n"
     ]
    }
   ],
   "source": [
    "def create_complete_gensim_pipeline(train_texts, val_texts, test_texts, \n",
    "                                  train_labels, val_labels, test_labels,\n",
    "                                  word2vec_model, max_length=50):\n",
    "    \"\"\"\n",
    "    Complete pipeline using Gensim Word2Vec model\n",
    "    \"\"\"\n",
    "    print(\"=== GENSIM WORD2VEC PIPELINE ===\")\n",
    "    \n",
    "    # 1. Tokenize all texts\n",
    "    print(\"Tokenizing texts...\")\n",
    "    X_train, word_to_id = tokenize_with_gensim_vocab(train_texts, word2vec_model, max_length)\n",
    "    X_val, _ = tokenize_with_gensim_vocab(val_texts, word2vec_model, max_length)\n",
    "    X_test, _ = tokenize_with_gensim_vocab(test_texts, word2vec_model, max_length)\n",
    "    \n",
    "    # 2. Create embedding matrix\n",
    "    print(\"Creating embedding matrix...\")\n",
    "    vocab_size = len(word_to_id)\n",
    "    embedding_dim = word2vec_model.vector_size\n",
    "    \n",
    "    embedding_matrix = np.zeros((vocab_size, embedding_dim), dtype=np.float32)\n",
    "    \n",
    "    # Fill with Word2Vec vectors\n",
    "    found_words = 0\n",
    "    for word, idx in word_to_id.items():\n",
    "        if word in word2vec_model.wv:\n",
    "            embedding_matrix[idx] = word2vec_model.wv[word]\n",
    "            found_words += 1\n",
    "        else:\n",
    "            # Random for special tokens like <UNK>, <PAD>\n",
    "            embedding_matrix[idx] = np.random.normal(0, 0.1, embedding_dim)\n",
    "    \n",
    "    print(f\"Found embeddings for {found_words}/{vocab_size} words\")\n",
    "    \n",
    "    # 3. Convert labels\n",
    "    y_train = np.array(train_labels, dtype=np.float32)\n",
    "    y_val = np.array(val_labels, dtype=np.float32)\n",
    "    y_test = np.array(test_labels, dtype=np.float32)\n",
    "    \n",
    "    print(f\"Data shapes:\")\n",
    "    print(f\"X_train: {X_train.shape}, y_train: {y_train.shape}\")\n",
    "    print(f\"X_val: {X_val.shape}, y_val: {y_val.shape}\")\n",
    "    print(f\"X_test: {X_test.shape}, y_test: {y_test.shape}\")\n",
    "    \n",
    "    return {\n",
    "        'X_train': X_train, 'y_train': y_train,\n",
    "        'X_val': X_val, 'y_val': y_val, \n",
    "        'X_test': X_test, 'y_test': y_test,\n",
    "        'embedding_matrix': embedding_matrix,\n",
    "        'word_to_id': word_to_id,\n",
    "        'vocab_size': vocab_size,\n",
    "        'embedding_dim': embedding_dim\n",
    "    }\n",
    "\n",
    "# Usage\n",
    "data = create_complete_gensim_pipeline(\n",
    "    train[\"text\"].tolist(), val[\"text\"].tolist(), test[\"text\"].tolist(),\n",
    "    train[\"label\"].tolist(), val[\"label\"].tolist(), test[\"label\"].tolist(),\n",
    "    word2vec_model,\n",
    "    max_length=50\n",
    ")"
   ]
  },
  {
   "cell_type": "code",
   "execution_count": null,
   "id": "36d0c1dc",
   "metadata": {},
   "outputs": [
    {
     "name": "stdout",
     "output_type": "stream",
     "text": [
      "🚀 CREATING CUSTOM DEEP LSTM WITH TENSORFLOW\n",
      "============================================================\n",
      "\n",
      " MODEL ARCHITECTURE:\n",
      "Input: (batch_size, 50) - Token sequences\n",
      "Embedding: 175623 -> 100 (Word2Vec frozen)\n",
      "LSTM 1: 100 -> 64 (Custom implementation)\n",
      "LSTM 2: 64 -> 32 (Custom implementation)\n",
      "Dense: 32 -> 32 (ReLU)\n",
      "Output: 32 -> 1 (Sigmoid)\n",
      "Total parameters: 17,618,045\n",
      "\n",
      " TRAINING ON 100000 SAMPLES\n",
      "Validation: 2000 samples\n",
      "Batch size: 32\n",
      "Learning rate: 0.001\n",
      "Sequence length: 50\n",
      "Epoch 1/10\n",
      "\u001b[1m3125/3125\u001b[0m \u001b[32m━━━━━━━━━━━━━━━━━━━━\u001b[0m\u001b[37m\u001b[0m \u001b[1m78s\u001b[0m 22ms/step - accuracy: 0.7159 - loss: 0.5538 - val_accuracy: 0.8135 - val_loss: 0.4179 - learning_rate: 0.0010\n",
      "Epoch 2/10\n",
      "\u001b[1m3125/3125\u001b[0m \u001b[32m━━━━━━━━━━━━━━━━━━━━\u001b[0m\u001b[37m\u001b[0m \u001b[1m69s\u001b[0m 22ms/step - accuracy: 0.8296 - loss: 0.3889 - val_accuracy: 0.8435 - val_loss: 0.3650 - learning_rate: 0.0010\n",
      "Epoch 3/10\n",
      "\u001b[1m3125/3125\u001b[0m \u001b[32m━━━━━━━━━━━━━━━━━━━━\u001b[0m\u001b[37m\u001b[0m \u001b[1m69s\u001b[0m 22ms/step - accuracy: 0.8507 - loss: 0.3440 - val_accuracy: 0.8500 - val_loss: 0.3377 - learning_rate: 0.0010\n",
      "Epoch 4/10\n",
      "\u001b[1m3125/3125\u001b[0m \u001b[32m━━━━━━━━━━━━━━━━━━━━\u001b[0m\u001b[37m\u001b[0m \u001b[1m68s\u001b[0m 22ms/step - accuracy: 0.8633 - loss: 0.3175 - val_accuracy: 0.8560 - val_loss: 0.3376 - learning_rate: 0.0010\n",
      "Epoch 5/10\n",
      "\u001b[1m3125/3125\u001b[0m \u001b[32m━━━━━━━━━━━━━━━━━━━━\u001b[0m\u001b[37m\u001b[0m \u001b[1m68s\u001b[0m 22ms/step - accuracy: 0.8731 - loss: 0.2989 - val_accuracy: 0.8600 - val_loss: 0.3215 - learning_rate: 0.0010\n",
      "Epoch 6/10\n",
      "\u001b[1m3125/3125\u001b[0m \u001b[32m━━━━━━━━━━━━━━━━━━━━\u001b[0m\u001b[37m\u001b[0m \u001b[1m67s\u001b[0m 22ms/step - accuracy: 0.8811 - loss: 0.2846 - val_accuracy: 0.8655 - val_loss: 0.3243 - learning_rate: 0.0010\n",
      "Epoch 7/10\n",
      "\u001b[1m3125/3125\u001b[0m \u001b[32m━━━━━━━━━━━━━━━━━━━━\u001b[0m\u001b[37m\u001b[0m \u001b[1m68s\u001b[0m 22ms/step - accuracy: 0.8867 - loss: 0.2715 - val_accuracy: 0.8650 - val_loss: 0.3205 - learning_rate: 0.0010\n",
      "Epoch 8/10\n",
      "\u001b[1m3125/3125\u001b[0m \u001b[32m━━━━━━━━━━━━━━━━━━━━\u001b[0m\u001b[37m\u001b[0m \u001b[1m68s\u001b[0m 22ms/step - accuracy: 0.8942 - loss: 0.2581 - val_accuracy: 0.8605 - val_loss: 0.3233 - learning_rate: 0.0010\n",
      "Epoch 9/10\n",
      "\u001b[1m3125/3125\u001b[0m \u001b[32m━━━━━━━━━━━━━━━━━━━━\u001b[0m\u001b[37m\u001b[0m \u001b[1m0s\u001b[0m 21ms/step - accuracy: 0.8983 - loss: 0.2485\n",
      "Epoch 9: ReduceLROnPlateau reducing learning rate to 0.0005000000237487257.\n",
      "\u001b[1m3125/3125\u001b[0m \u001b[32m━━━━━━━━━━━━━━━━━━━━\u001b[0m\u001b[37m\u001b[0m \u001b[1m67s\u001b[0m 22ms/step - accuracy: 0.8983 - loss: 0.2485 - val_accuracy: 0.8670 - val_loss: 0.3357 - learning_rate: 0.0010\n",
      "Epoch 10/10\n",
      "\u001b[1m3125/3125\u001b[0m \u001b[32m━━━━━━━━━━━━━━━━━━━━\u001b[0m\u001b[37m\u001b[0m \u001b[1m69s\u001b[0m 22ms/step - accuracy: 0.9066 - loss: 0.2314 - val_accuracy: 0.8615 - val_loss: 0.3377 - learning_rate: 5.0000e-04\n",
      "Restoring model weights from the end of the best epoch: 9.\n",
      "\n",
      " Model successfully trained!\n",
      "Total parameters: 17,618,045\n"
     ]
    },
    {
     "data": {
      "image/png": "[encoded data removed]",
      "text/plain": [
       "<Figure size 1200x400 with 2 Axes>"
      ]
     },
     "metadata": {},
     "output_type": "display_data"
    },
    {
     "name": "stdout",
     "output_type": "stream",
     "text": [
      "\n",
      "🔍 ANALYZING MODEL INTERNALS\n",
      "========================================\n",
      "Embedding output shape: (1, 50, 100)\n",
      "Sample embedding (first 5 dims): [-0.49269116 -1.5456039   7.2577634  -0.22399399 -1.9265022 ]\n",
      "LSTM1 output shape: (1, 50, 64)\n",
      "LSTM1 output range: [-0.9731, 0.9988]\n",
      "LSTM2 output shape: (1, 32)\n",
      "LSTM2 output range: [-0.7503, 0.9426]\n",
      "Final prediction: 0.9753\n",
      "\n",
      " EVALUATING CUSTOM MODEL\n",
      "========================================\n",
      "Test Loss: 0.3351\n",
      "Test Accuracy: 0.8592\n",
      "\n",
      "Classification Report:\n",
      "              precision    recall  f1-score   support\n",
      "\n",
      "    Negative       0.87      0.84      0.86     90000\n",
      "    Positive       0.85      0.88      0.86     90000\n",
      "\n",
      "    accuracy                           0.86    180000\n",
      "   macro avg       0.86      0.86      0.86    180000\n",
      "weighted avg       0.86      0.86      0.86    180000\n",
      "\n",
      "\n",
      " CUSTOM DEEP LSTM TRAINING COMPLETE!\n",
      "Final Test Accuracy: 0.8592\n"
     ]
    }
   ],
   "source": [
    "from LSTM.src.LSTM import main_custom_deep_lstm\n",
    "model, history = main_custom_deep_lstm(data)"
   ]
  }
 ],
 "metadata": {
  "kernelspec": {
   "display_name": "venv",
   "language": "python",
   "name": "python3"
  },
  "language_info": {
   "codemirror_mode": {
    "name": "ipython",
    "version": 3
   },
   "file_extension": ".py",
   "mimetype": "text/x-python",
   "name": "python",
   "nbconvert_exporter": "python",
   "pygments_lexer": "ipython3",
   "version": "3.9.6"
  }
 },
 "nbformat": 4,
 "nbformat_minor": 5
}
