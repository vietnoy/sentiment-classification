{
 "cells": [
  {
   "cell_type": "code",
   "execution_count": 1,
   "id": "9c8784a7",
   "metadata": {},
   "outputs": [],
   "source": [
    "import os\n",
    "import sys\n",
    "\n",
    "cwd = os.getcwd()\n",
    "sys.path.append(os.path.abspath(\"..\"))"
   ]
  },
  {
   "cell_type": "code",
   "execution_count": 2,
   "id": "6565bf3b",
   "metadata": {},
   "outputs": [
    {
     "name": "stderr",
     "output_type": "stream",
     "text": [
      "/Users/khangdo/Desktop/sentiment classification project/venv/lib/python3.9/site-packages/urllib3/__init__.py:35: NotOpenSSLWarning: urllib3 v2 only supports OpenSSL 1.1.1+, currently the 'ssl' module is compiled with 'LibreSSL 2.8.3'. See: https://github.com/urllib3/urllib3/issues/3020\n",
      "  warnings.warn(\n"
     ]
    }
   ],
   "source": [
    "import numpy as np\n",
    "import matplotlib.pyplot as plt\n",
    "from data.data_preprocessing import load_and_preprocess"
   ]
  },
  {
   "cell_type": "code",
   "execution_count": 3,
   "id": "950b7397",
   "metadata": {},
   "outputs": [],
   "source": [
    "train, val, test = load_and_preprocess(train_sample_size=100000, val_sample_size=2000)"
   ]
  },
  {
   "cell_type": "code",
   "execution_count": 4,
   "id": "56562864",
   "metadata": {},
   "outputs": [
    {
     "data": {
      "text/html": [
       "<div>\n",
       "<style scoped>\n",
       "    .dataframe tbody tr th:only-of-type {\n",
       "        vertical-align: middle;\n",
       "    }\n",
       "\n",
       "    .dataframe tbody tr th {\n",
       "        vertical-align: top;\n",
       "    }\n",
       "\n",
       "    .dataframe thead th {\n",
       "        text-align: right;\n",
       "    }\n",
       "</style>\n",
       "<table border=\"1\" class=\"dataframe\">\n",
       "  <thead>\n",
       "    <tr style=\"text-align: right;\">\n",
       "      <th></th>\n",
       "      <th>label</th>\n",
       "      <th>title</th>\n",
       "      <th>text</th>\n",
       "    </tr>\n",
       "  </thead>\n",
       "  <tbody>\n",
       "    <tr>\n",
       "      <th>0</th>\n",
       "      <td>1</td>\n",
       "      <td>Einstein: His Life Revealed</td>\n",
       "      <td>walter isaacson has clearly covered the bases ...</td>\n",
       "    </tr>\n",
       "    <tr>\n",
       "      <th>1</th>\n",
       "      <td>0</td>\n",
       "      <td>Totally unreliable measuring directions</td>\n",
       "      <td>the examples of things that can be built are v...</td>\n",
       "    </tr>\n",
       "    <tr>\n",
       "      <th>2</th>\n",
       "      <td>1</td>\n",
       "      <td>It's Not Just About the Book</td>\n",
       "      <td>i just finished reading the book as the tour d...</td>\n",
       "    </tr>\n",
       "    <tr>\n",
       "      <th>3</th>\n",
       "      <td>0</td>\n",
       "      <td>Playing in the dark</td>\n",
       "      <td>be careful buying this light the invoice and o...</td>\n",
       "    </tr>\n",
       "    <tr>\n",
       "      <th>4</th>\n",
       "      <td>0</td>\n",
       "      <td>Rose-flavored Water, NOT Rosewater</td>\n",
       "      <td>if all you're after is rose flavor for cooking...</td>\n",
       "    </tr>\n",
       "  </tbody>\n",
       "</table>\n",
       "</div>"
      ],
      "text/plain": [
       "   label                                    title  \\\n",
       "0      1              Einstein: His Life Revealed   \n",
       "1      0  Totally unreliable measuring directions   \n",
       "2      1             It's Not Just About the Book   \n",
       "3      0                      Playing in the dark   \n",
       "4      0       Rose-flavored Water, NOT Rosewater   \n",
       "\n",
       "                                                text  \n",
       "0  walter isaacson has clearly covered the bases ...  \n",
       "1  the examples of things that can be built are v...  \n",
       "2  i just finished reading the book as the tour d...  \n",
       "3  be careful buying this light the invoice and o...  \n",
       "4  if all you're after is rose flavor for cooking...  "
      ]
     },
     "execution_count": 4,
     "metadata": {},
     "output_type": "execute_result"
    }
   ],
   "source": [
    "train.head()"
   ]
  },
  {
   "cell_type": "code",
   "execution_count": 5,
   "id": "0a78febc",
   "metadata": {},
   "outputs": [
    {
     "name": "stdout",
     "output_type": "stream",
     "text": [
      "Training size: 100000\n",
      "Validation size: 2000\n",
      "Test size: 180000\n"
     ]
    }
   ],
   "source": [
    "print(f\"Training size: {len(train)}\")\n",
    "print(f\"Validation size: {len(val)}\")\n",
    "print(f\"Test size: {len(test)}\")"
   ]
  },
  {
   "cell_type": "code",
   "execution_count": 6,
   "id": "3bf86d79",
   "metadata": {},
   "outputs": [],
   "source": [
    "from gensim.models import Word2Vec\n",
    "\n",
    "sentences = [text.split() for text in train[\"text\"]]  # List of tokenized sentences\n",
    "\n",
    "word2vec_model = Word2Vec(\n",
    "    sentences=sentences,\n",
    "    vector_size=100,        # Embedding dimension\n",
    "    window=5,               # Context window\n",
    "    min_count=1,           # Ignore words with frequency < min_count\n",
    "    workers=4,             # Number of CPU cores\n",
    "    epochs=10\n",
    ")"
   ]
  },
  {
   "cell_type": "code",
   "execution_count": 7,
   "id": "73971002",
   "metadata": {},
   "outputs": [
    {
     "name": "stdout",
     "output_type": "stream",
     "text": [
      "Tokenized sequences shape: (100000, 50)\n",
      "Vocabulary size: 175623\n"
     ]
    }
   ],
   "source": [
    "def tokenize_with_gensim_vocab(texts, word2vec_model, max_length=50, unk_token=\"<UNK>\"):\n",
    "    \"\"\"\n",
    "    Tokenize texts using Word2Vec model's vocabulary\n",
    "    \"\"\"\n",
    "    # Get vocabulary mapping\n",
    "    word_to_id = word2vec_model.wv.key_to_index.copy()\n",
    "    \n",
    "    # Add special tokens if needed\n",
    "    vocab_size = len(word_to_id)\n",
    "    if unk_token not in word_to_id:\n",
    "        word_to_id[unk_token] = vocab_size\n",
    "        vocab_size += 1\n",
    "    \n",
    "    # Add padding token\n",
    "    pad_token = \"<PAD>\"\n",
    "    if pad_token not in word_to_id:\n",
    "        word_to_id[pad_token] = vocab_size\n",
    "        vocab_size += 1\n",
    "    \n",
    "    unk_id = word_to_id[unk_token]\n",
    "    pad_id = word_to_id[pad_token]\n",
    "    \n",
    "    sequences = []\n",
    "    \n",
    "    for text in texts:\n",
    "        # Basic tokenization (you can make this more sophisticated)\n",
    "        tokens = text.lower().split()\n",
    "        \n",
    "        # Convert to indices\n",
    "        indices = []\n",
    "        for token in tokens:\n",
    "            if token in word_to_id:\n",
    "                indices.append(word_to_id[token])\n",
    "            else:\n",
    "                indices.append(unk_id)  # Unknown token\n",
    "        \n",
    "        # Truncate or pad\n",
    "        if len(indices) > max_length:\n",
    "            indices = indices[:max_length]\n",
    "        else:\n",
    "            indices.extend([pad_id] * (max_length - len(indices)))\n",
    "        \n",
    "        sequences.append(indices)\n",
    "    \n",
    "    return np.array(sequences), word_to_id\n",
    "\n",
    "# Usage\n",
    "sequences, word_to_id_gensim = tokenize_with_gensim_vocab(\n",
    "    train[\"text\"].tolist(), \n",
    "    word2vec_model, \n",
    "    max_length=50\n",
    ")\n",
    "print(f\"Tokenized sequences shape: {sequences.shape}\")\n",
    "print(f\"Vocabulary size: {len(word_to_id_gensim)}\")"
   ]
  },
  {
   "cell_type": "code",
   "execution_count": 8,
   "id": "f52a8478",
   "metadata": {},
   "outputs": [
    {
     "name": "stdout",
     "output_type": "stream",
     "text": [
      "=== GENSIM WORD2VEC PIPELINE ===\n",
      "Tokenizing texts...\n",
      "Creating embedding matrix...\n",
      "Found embeddings for 175621/175623 words\n",
      "Data shapes:\n",
      "X_train: (100000, 50), y_train: (100000,)\n",
      "X_val: (2000, 50), y_val: (2000,)\n",
      "X_test: (180000, 50), y_test: (180000,)\n"
     ]
    }
   ],
   "source": [
    "def create_complete_gensim_pipeline(train_texts, val_texts, test_texts, \n",
    "                                  train_labels, val_labels, test_labels,\n",
    "                                  word2vec_model, max_length=50):\n",
    "    \"\"\"\n",
    "    Complete pipeline using Gensim Word2Vec model\n",
    "    \"\"\"\n",
    "    print(\"=== GENSIM WORD2VEC PIPELINE ===\")\n",
    "    \n",
    "    # 1. Tokenize all texts\n",
    "    print(\"Tokenizing texts...\")\n",
    "    X_train, word_to_id = tokenize_with_gensim_vocab(train_texts, word2vec_model, max_length)\n",
    "    X_val, _ = tokenize_with_gensim_vocab(val_texts, word2vec_model, max_length)\n",
    "    X_test, _ = tokenize_with_gensim_vocab(test_texts, word2vec_model, max_length)\n",
    "    \n",
    "    # 2. Create embedding matrix\n",
    "    print(\"Creating embedding matrix...\")\n",
    "    vocab_size = len(word_to_id)\n",
    "    embedding_dim = word2vec_model.vector_size\n",
    "    \n",
    "    embedding_matrix = np.zeros((vocab_size, embedding_dim), dtype=np.float32)\n",
    "    \n",
    "    # Fill with Word2Vec vectors\n",
    "    found_words = 0\n",
    "    for word, idx in word_to_id.items():\n",
    "        if word in word2vec_model.wv:\n",
    "            embedding_matrix[idx] = word2vec_model.wv[word]\n",
    "            found_words += 1\n",
    "        else:\n",
    "            # Random for special tokens like <UNK>, <PAD>\n",
    "            embedding_matrix[idx] = np.random.normal(0, 0.1, embedding_dim)\n",
    "    \n",
    "    print(f\"Found embeddings for {found_words}/{vocab_size} words\")\n",
    "    \n",
    "    # 3. Convert labels\n",
    "    y_train = np.array(train_labels, dtype=np.float32)\n",
    "    y_val = np.array(val_labels, dtype=np.float32)\n",
    "    y_test = np.array(test_labels, dtype=np.float32)\n",
    "    \n",
    "    print(f\"Data shapes:\")\n",
    "    print(f\"X_train: {X_train.shape}, y_train: {y_train.shape}\")\n",
    "    print(f\"X_val: {X_val.shape}, y_val: {y_val.shape}\")\n",
    "    print(f\"X_test: {X_test.shape}, y_test: {y_test.shape}\")\n",
    "    \n",
    "    return {\n",
    "        'X_train': X_train, 'y_train': y_train,\n",
    "        'X_val': X_val, 'y_val': y_val, \n",
    "        'X_test': X_test, 'y_test': y_test,\n",
    "        'embedding_matrix': embedding_matrix,\n",
    "        'word_to_id': word_to_id,\n",
    "        'vocab_size': vocab_size,\n",
    "        'embedding_dim': embedding_dim\n",
    "    }\n",
    "\n",
    "# Usage\n",
    "data = create_complete_gensim_pipeline(\n",
    "    train[\"text\"].tolist(), val[\"text\"].tolist(), test[\"text\"].tolist(),\n",
    "    train[\"label\"].tolist(), val[\"label\"].tolist(), test[\"label\"].tolist(),\n",
    "    word2vec_model,\n",
    "    max_length=50\n",
    ")"
   ]
  },
  {
   "cell_type": "code",
   "execution_count": 9,
   "id": "36d0c1dc",
   "metadata": {},
   "outputs": [
    {
     "name": "stdout",
     "output_type": "stream",
     "text": [
      " CREATING CUSTOM DEEP BIDIRECTIONAL RNN WITH TENSORFLOW\n",
      "======================================================================\n",
      "\n",
      " BIDIRECTIONAL RNN MODEL ARCHITECTURE:\n",
      "Input: (batch_size, 50) - Token sequences\n",
      "Embedding: 175623 -> 100 (Word2Vec frozen)\n",
      "BRNN 1: 100 -> 64*2 = 128 (Custom bidirectional)\n",
      "BRNN 2: 128 -> 32*2 = 64 (Custom bidirectional)\n",
      "Dense: 64 -> 32 (ReLU)\n",
      "Output: 32 -> 1 (Sigmoid)\n",
      "Merge mode: concat\n",
      "Total parameters: 17,690,109\n",
      "Note: BRNN has ~2x parameters compared to unidirectional RNN\n",
      "\n",
      " TRAINING BIDIRECTIONAL RNN\n",
      "Training samples: 100000\n",
      "Validation samples: 2000\n",
      "Batch size: 32\n",
      "Learning rate: 0.001\n",
      "Sequence length: 50\n",
      "Epoch 1/10\n",
      "\u001b[1m3125/3125\u001b[0m \u001b[32m━━━━━━━━━━━━━━━━━━━━\u001b[0m\u001b[37m\u001b[0m \u001b[1m183s\u001b[0m 57ms/step - accuracy: 0.7451 - loss: 0.4982 - val_accuracy: 0.8425 - val_loss: 0.3422 - learning_rate: 0.0010\n",
      "Epoch 2/10\n",
      "\u001b[1m3125/3125\u001b[0m \u001b[32m━━━━━━━━━━━━━━━━━━━━\u001b[0m\u001b[37m\u001b[0m \u001b[1m164s\u001b[0m 53ms/step - accuracy: 0.8508 - loss: 0.3461 - val_accuracy: 0.8625 - val_loss: 0.3234 - learning_rate: 0.0010\n",
      "Epoch 3/10\n",
      "\u001b[1m3125/3125\u001b[0m \u001b[32m━━━━━━━━━━━━━━━━━━━━\u001b[0m\u001b[37m\u001b[0m \u001b[1m180s\u001b[0m 58ms/step - accuracy: 0.8669 - loss: 0.3129 - val_accuracy: 0.8670 - val_loss: 0.3051 - learning_rate: 0.0010\n",
      "Epoch 4/10\n",
      "\u001b[1m3125/3125\u001b[0m \u001b[32m━━━━━━━━━━━━━━━━━━━━\u001b[0m\u001b[37m\u001b[0m \u001b[1m166s\u001b[0m 53ms/step - accuracy: 0.8793 - loss: 0.2880 - val_accuracy: 0.8670 - val_loss: 0.3064 - learning_rate: 0.0010\n",
      "Epoch 5/10\n",
      "\u001b[1m3125/3125\u001b[0m \u001b[32m━━━━━━━━━━━━━━━━━━━━\u001b[0m\u001b[37m\u001b[0m \u001b[1m0s\u001b[0m 53ms/step - accuracy: 0.8911 - loss: 0.2656\n",
      "Epoch 5: ReduceLROnPlateau reducing learning rate to 0.0005000000237487257.\n",
      "\u001b[1m3125/3125\u001b[0m \u001b[32m━━━━━━━━━━━━━━━━━━━━\u001b[0m\u001b[37m\u001b[0m \u001b[1m165s\u001b[0m 53ms/step - accuracy: 0.8911 - loss: 0.2656 - val_accuracy: 0.8675 - val_loss: 0.3103 - learning_rate: 0.0010\n",
      "Epoch 6/10\n",
      "\u001b[1m3125/3125\u001b[0m \u001b[32m━━━━━━━━━━━━━━━━━━━━\u001b[0m\u001b[37m\u001b[0m \u001b[1m167s\u001b[0m 53ms/step - accuracy: 0.9033 - loss: 0.2383 - val_accuracy: 0.8675 - val_loss: 0.3256 - learning_rate: 5.0000e-04\n",
      "Epoch 7/10\n",
      "\u001b[1m3125/3125\u001b[0m \u001b[32m━━━━━━━━━━━━━━━━━━━━\u001b[0m\u001b[37m\u001b[0m \u001b[1m0s\u001b[0m 52ms/step - accuracy: 0.9132 - loss: 0.2157\n",
      "Epoch 7: ReduceLROnPlateau reducing learning rate to 0.0002500000118743628.\n",
      "\u001b[1m3125/3125\u001b[0m \u001b[32m━━━━━━━━━━━━━━━━━━━━\u001b[0m\u001b[37m\u001b[0m \u001b[1m164s\u001b[0m 52ms/step - accuracy: 0.9132 - loss: 0.2157 - val_accuracy: 0.8670 - val_loss: 0.3434 - learning_rate: 5.0000e-04\n",
      "Epoch 8/10\n",
      "\u001b[1m3125/3125\u001b[0m \u001b[32m━━━━━━━━━━━━━━━━━━━━\u001b[0m\u001b[37m\u001b[0m \u001b[1m168s\u001b[0m 54ms/step - accuracy: 0.9244 - loss: 0.1954 - val_accuracy: 0.8720 - val_loss: 0.3495 - learning_rate: 2.5000e-04\n",
      "Epoch 9/10\n",
      "\u001b[1m3125/3125\u001b[0m \u001b[32m━━━━━━━━━━━━━━━━━━━━\u001b[0m\u001b[37m\u001b[0m \u001b[1m0s\u001b[0m 53ms/step - accuracy: 0.9273 - loss: 0.1851\n",
      "Epoch 9: ReduceLROnPlateau reducing learning rate to 0.0001250000059371814.\n",
      "\u001b[1m3125/3125\u001b[0m \u001b[32m━━━━━━━━━━━━━━━━━━━━\u001b[0m\u001b[37m\u001b[0m \u001b[1m166s\u001b[0m 53ms/step - accuracy: 0.9273 - loss: 0.1851 - val_accuracy: 0.8755 - val_loss: 0.3612 - learning_rate: 2.5000e-04\n",
      "Epoch 10/10\n",
      "\u001b[1m3125/3125\u001b[0m \u001b[32m━━━━━━━━━━━━━━━━━━━━\u001b[0m\u001b[37m\u001b[0m \u001b[1m165s\u001b[0m 53ms/step - accuracy: 0.9348 - loss: 0.1720 - val_accuracy: 0.8725 - val_loss: 0.3871 - learning_rate: 1.2500e-04\n",
      "Restoring model weights from the end of the best epoch: 9.\n",
      "\n",
      " Bidirectional RNN successfully trained!\n",
      "Total parameters: 17,690,109\n"
     ]
    },
    {
     "data": {
      "image/png": "[encoded data removed]",
      "text/plain": [
       "<Figure size 1200x400 with 2 Axes>"
      ]
     },
     "metadata": {},
     "output_type": "display_data"
    },
    {
     "name": "stdout",
     "output_type": "stream",
     "text": [
      "\n",
      " ANALYZING BIDIRECTIONAL RNN INTERNALS\n",
      "==================================================\n",
      "Embedding output shape: (1, 50, 100)\n",
      "Sample embedding (first 5 dims): [-0.12269875 -1.3485342   4.475255    1.9728168  -1.8002095 ]\n",
      "BRNN1 output shape: (1, 50, 128)\n",
      "Note: Shape doubled due to bidirectional concatenation\n",
      "BRNN1 output range: [-0.9944, 0.9977]\n",
      "BRNN2 output shape: (1, 64)\n",
      "BRNN2 output range: [-0.9260, 0.9289]\n",
      "Final prediction: 0.9983\n",
      "\n",
      " BIDIRECTIONAL RNN CHARACTERISTICS:\n",
      "• Processes sequence in BOTH directions\n",
      "• Forward: past → future context\n",
      "• Backward: future → past context\n",
      "• Combines both for richer representation\n",
      "• Better for sentiment analysis (can see full context)\n",
      "\n",
      " EVALUATING CUSTOM BRNN MODEL\n",
      "========================================\n",
      "Test Loss: 0.3605\n",
      "Test Accuracy: 0.8685\n",
      "\n",
      "Classification Report:\n",
      "              precision    recall  f1-score   support\n",
      "\n",
      "    Negative       0.88      0.85      0.87     90000\n",
      "    Positive       0.86      0.89      0.87     90000\n",
      "\n",
      "    accuracy                           0.87    180000\n",
      "   macro avg       0.87      0.87      0.87    180000\n",
      "weighted avg       0.87      0.87      0.87    180000\n",
      "\n",
      "\n",
      " CUSTOM DEEP BRNN TRAINING COMPLETE!\n",
      "Final Test Accuracy: 0.8685\n",
      "Merge mode used: concat\n"
     ]
    }
   ],
   "source": [
    "from src.BRNN import main_custom_deep_brnn\n",
    "model, history = main_custom_deep_brnn(data)"
   ]
  }
 ],
 "metadata": {
  "kernelspec": {
   "display_name": "venv",
   "language": "python",
   "name": "python3"
  },
  "language_info": {
   "codemirror_mode": {
    "name": "ipython",
    "version": 3
   },
   "file_extension": ".py",
   "mimetype": "text/x-python",
   "name": "python",
   "nbconvert_exporter": "python",
   "pygments_lexer": "ipython3",
   "version": "3.11.5"
  }
 },
 "nbformat": 4,
 "nbformat_minor": 5
}
